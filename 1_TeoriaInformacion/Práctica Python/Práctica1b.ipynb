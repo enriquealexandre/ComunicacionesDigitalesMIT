{
 "cells": [
  {
   "cell_type": "markdown",
   "metadata": {},
   "source": [
    "# COMUNICACIONES DIGITALES\n",
    "> Máster en Ingeniería de Telecomunicación<br>\n",
    "> Curso 2021/22\n"
   ]
  },
  {
   "cell_type": "markdown",
   "metadata": {},
   "source": [
    "## Práctica 1b - Codificación LZW (Lempel-Ziv-Welch)\n",
    "\n",
    "En esta segunda parte de la práctica vamos a seguir con otro caso de codificador de fuente como es el codificador LZW (Lempel-Ziv-Welch)."
   ]
  },
  {
   "cell_type": "markdown",
   "metadata": {},
   "source": [
    "### 1 - GENERACIÓN DEL MENSAJE Y CÁLCULOS PREVIOS\n",
    "Esta parte es idéntica a la de la primera parte de la práctica (Práctica1a)"
   ]
  },
  {
   "cell_type": "code",
   "execution_count": 1,
   "metadata": {},
   "outputs": [
    {
     "name": "stdout",
     "output_type": "stream",
     "text": [
      "Mensaje a transmitir: En un lugar de la Mancha, de cuyo nombre no quiero acordarme\n",
      "Tamaño del archivo: 60 bytes\n",
      "Tamaño mínimo teórico: 29.113 bytes\n"
     ]
    }
   ],
   "source": [
    "import CodFuente\n",
    "mensaje = \"En un lugar de la Mancha, de cuyo nombre no quiero acordarme\"\n",
    "print(f\"Mensaje a transmitir: {mensaje}\")\n",
    "print(f\"Tamaño del archivo: {len(mensaje)} bytes\")\n",
    "bytes = CodFuente.entropia(mensaje)*len(mensaje)/8\n",
    "print(f\"Tamaño mínimo teórico: {bytes:.3f} bytes\")"
   ]
  },
  {
   "cell_type": "markdown",
   "metadata": {},
   "source": [
    "### 2 - CODIFICACIÓN LZW (I)\n",
    "Hacemos lo mismo pero ahora con el codificador LZW"
   ]
  },
  {
   "cell_type": "code",
   "execution_count": 2,
   "metadata": {},
   "outputs": [
    {
     "name": "stdout",
     "output_type": "stream",
     "text": [
      "Diccionario LZW completo:\n",
      "'E' - 0\n",
      "'n' - 1\n",
      "' ' - 2\n",
      "'u' - 3\n",
      "'l' - 4\n",
      "'g' - 5\n",
      "'a' - 6\n",
      "'r' - 7\n",
      "'d' - 8\n",
      "'e' - 9\n",
      "'M' - 10\n",
      "'c' - 11\n",
      "'h' - 12\n",
      "',' - 13\n",
      "'y' - 14\n",
      "'o' - 15\n",
      "'m' - 16\n",
      "'b' - 17\n",
      "'q' - 18\n",
      "'i' - 19\n",
      "'En' - 20\n",
      "'n ' - 21\n",
      "' u' - 22\n",
      "'un' - 23\n",
      "'n l' - 24\n",
      "'lu' - 25\n",
      "'ug' - 26\n",
      "'ga' - 27\n",
      "'ar' - 28\n",
      "'r ' - 29\n",
      "' d' - 30\n",
      "'de' - 31\n",
      "'e ' - 32\n",
      "' l' - 33\n",
      "'la' - 34\n",
      "'a ' - 35\n",
      "' M' - 36\n",
      "'Ma' - 37\n",
      "'an' - 38\n",
      "'nc' - 39\n",
      "'ch' - 40\n",
      "'ha' - 41\n",
      "'a,' - 42\n",
      "', ' - 43\n",
      "' de' - 44\n",
      "'e c' - 45\n",
      "'cu' - 46\n",
      "'uy' - 47\n",
      "'yo' - 48\n",
      "'o ' - 49\n",
      "' n' - 50\n",
      "'no' - 51\n",
      "'om' - 52\n",
      "'mb' - 53\n",
      "'br' - 54\n",
      "'re' - 55\n",
      "'e n' - 56\n",
      "'no ' - 57\n",
      "' q' - 58\n",
      "'qu' - 59\n",
      "'ui' - 60\n",
      "'ie' - 61\n",
      "'er' - 62\n",
      "'ro' - 63\n",
      "'o a' - 64\n",
      "'ac' - 65\n",
      "'co' - 66\n",
      "'or' - 67\n",
      "'rd' - 68\n",
      "'da' - 69\n",
      "'arm' - 70\n",
      "'me' - 71\n"
     ]
    }
   ],
   "source": [
    "diccionario_lzw = CodFuente.gen_lzw_dic(mensaje)\n",
    "bits, bitspormuestralzw, codigo = CodFuente.lzw_cod(mensaje, diccionario_lzw)\n",
    "print(\"Diccionario LZW completo:\")\n",
    "for k in diccionario_lzw:\n",
    "    print(f\"'{k}' - {diccionario_lzw[k]}\")"
   ]
  },
  {
   "cell_type": "markdown",
   "metadata": {},
   "source": [
    "### 3 - CODIFICACIÓN LZW (II)\n",
    "Saco por pantalla el mensaje codificado, no en binario, sino los códigos correspondientes del diccionario. Calculo también el tamaño del mensaje una vez codificado. "
   ]
  },
  {
   "cell_type": "code",
   "execution_count": 3,
   "metadata": {},
   "outputs": [
    {
     "name": "stdout",
     "output_type": "stream",
     "text": [
      "[0, 1, 2, 3, 21, 4, 3, 5, 6, 7, 2, 8, 9, 2, 4, 6, 2, 10, 6, 1, 11, 12, 6, 13, 30, 32, 11, 3, 14, 15, 2, 1, 15, 16, 17, 7, 32, 51, 2, 18, 3, 19, 9, 7, 49, 6, 11, 15, 7, 8, 28, 16, 9]\n",
      "Tamaño del archivo tras la codificación LZW: 39.75 bytes\n"
     ]
    }
   ],
   "source": [
    "print(codigo)\n",
    "print(f\"Tamaño del archivo tras la codificación LZW: {len(bits)/8} bytes\")"
   ]
  },
  {
   "cell_type": "markdown",
   "metadata": {},
   "source": [
    "### 4 - CODIFICACIÓN LZW (III)\n",
    "Por último, igual que antes, decodifico y compruebo que todo funciona correctamente. "
   ]
  },
  {
   "cell_type": "code",
   "execution_count": 4,
   "metadata": {},
   "outputs": [
    {
     "name": "stdout",
     "output_type": "stream",
     "text": [
      "En un lugar de la Mancha, de cuyo nombre no quiero acordarme\n"
     ]
    }
   ],
   "source": [
    "salida = CodFuente.lzw_dec(bits, bitspormuestralzw, diccionario_lzw)\n",
    "print(f\"{salida}\")"
   ]
  }
 ],
 "metadata": {
  "interpreter": {
   "hash": "5e18f1f7e2093e2c4573a3c48282598290b4b08e415ac8eb5ac1b29c9e10dee7"
  },
  "kernelspec": {
   "display_name": "Python 3.8.10 64-bit ('base': conda)",
   "name": "python3"
  },
  "language_info": {
   "codemirror_mode": {
    "name": "ipython",
    "version": 3
   },
   "file_extension": ".py",
   "mimetype": "text/x-python",
   "name": "python",
   "nbconvert_exporter": "python",
   "pygments_lexer": "ipython3",
   "version": "3.8.12"
  },
  "orig_nbformat": 4
 },
 "nbformat": 4,
 "nbformat_minor": 2
}
