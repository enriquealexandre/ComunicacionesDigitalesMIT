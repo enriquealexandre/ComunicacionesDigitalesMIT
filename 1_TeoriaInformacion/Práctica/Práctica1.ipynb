{
 "cells": [
  {
   "cell_type": "markdown",
   "metadata": {},
   "source": [
    "# COMUNICACIONES DIGITALES\n",
    "#### Máster en Ingeniería de Telecomunicación\n",
    "#### Curso 2021/22"
   ]
  },
  {
   "cell_type": "markdown",
   "metadata": {},
   "source": [
    "## Práctica 1 - Codificación fuente\n",
    "\n",
    "En esta práctica vamos a ver algunas ideas relacionadas con la codificación de fuente.\n",
    "Veremos dos casos:\n",
    " - Codificador Huffmann\n",
    " - Codificador LZW (Lempel–Ziv–Welch)\n",
    " "
   ]
  },
  {
   "cell_type": "markdown",
   "metadata": {},
   "source": [
    "### 1 - GENERACIÓN DEL MENSAJE\n",
    "Generamos un mensaje que será la entrada a nuestro sistema"
   ]
  },
  {
   "cell_type": "code",
   "execution_count": 1,
   "metadata": {},
   "outputs": [
    {
     "name": "stdout",
     "output_type": "stream",
     "text": [
      "Mensaje a transmitir: En un lugar de la Mancha, de cuyo nombre no quiero acordarme\n"
     ]
    }
   ],
   "source": [
    "import CodFuente\n",
    "mensaje = \"En un lugar de la Mancha, de cuyo nombre no quiero acordarme\"\n",
    "print(f\"Mensaje a transmitir: {mensaje}\")"
   ]
  },
  {
   "cell_type": "markdown",
   "metadata": {},
   "source": [
    "### 2 - CÁLCULOS PREVIOS\n",
    "Antes de realizar cualquier codificación, calculo el número de bits necesarios para codificar el mensaje tal cual, sin hacer nada, y cuál sería el mínimo teórico según el cálculo de la entropía."
   ]
  },
  {
   "cell_type": "code",
   "execution_count": 2,
   "metadata": {},
   "outputs": [
    {
     "name": "stdout",
     "output_type": "stream",
     "text": [
      "Tamaño del archivo: 60 bytes\n",
      "Tamaño mínimo teórico: 29.113 bytes\n"
     ]
    }
   ],
   "source": [
    "print(f\"Tamaño del archivo: {len(mensaje)} bytes\")\n",
    "bytes = CodFuente.entropia(mensaje)*len(mensaje)/8\n",
    "print(f\"Tamaño mínimo teórico: {bytes:.3f} bytes\")"
   ]
  },
  {
   "cell_type": "markdown",
   "metadata": {},
   "source": [
    "### 3 - CODIFICACIÓN HUFFMANN (I)\n",
    "Comenzamos con la codificación Huffmann. \n",
    "En primer lugar calculo el diccionario adaptado al mensaje de entrada, y muestro el resultado. "
   ]
  },
  {
   "cell_type": "code",
   "execution_count": 3,
   "metadata": {},
   "outputs": [
    {
     "name": "stdout",
     "output_type": "stream",
     "text": [
      "Diccionario generado con probabilidades y códigos para cada carácter\n",
      "'E' - 0.017 - 011111\n",
      "'n' - 0.083 - 1100\n",
      "' ' - 0.183 - 00\n",
      "'u' - 0.067 - 1010\n",
      "'l' - 0.033 - 10011\n",
      "'g' - 0.017 - 100010\n",
      "'a' - 0.100 - 010\n",
      "'r' - 0.083 - 1110\n",
      "'d' - 0.050 - 0110\n",
      "'e' - 0.083 - 1011\n",
      "'M' - 0.017 - 100000\n",
      "'c' - 0.050 - 11111\n",
      "'h' - 0.017 - 100011\n",
      "',' - 0.017 - 011110\n",
      "'y' - 0.017 - 01110\n",
      "'o' - 0.083 - 1101\n",
      "'m' - 0.033 - 11110\n",
      "'b' - 0.017 - 100001\n",
      "'q' - 0.017 - 100101\n",
      "'i' - 0.017 - 100100\n"
     ]
    }
   ],
   "source": [
    "diccionario = CodFuente.gen_huffman_dic(mensaje)\n",
    "codigo = CodFuente.huffman(diccionario)\n",
    "print(\"Diccionario generado con probabilidades y códigos para cada carácter\")\n",
    "for k in diccionario:\n",
    "    print(f\"'{k}' - {diccionario[k]:.3f} - {codigo[k]}\")"
   ]
  },
  {
   "cell_type": "markdown",
   "metadata": {},
   "source": [
    "### 4 - CODIFICACIÓN HUFFMANN (II)\n",
    "Utilizando el diccionario de antes, codifico el mensaje y calculo su tamaño una vez codificado. "
   ]
  },
  {
   "cell_type": "code",
   "execution_count": 4,
   "metadata": {},
   "outputs": [
    {
     "name": "stdout",
     "output_type": "stream",
     "text": [
      "Tamaño del archivo tras la codificación fuente: 29.50 bytes\n"
     ]
    }
   ],
   "source": [
    "bits = CodFuente.huffman_cod(mensaje, diccionario)\n",
    "bytes = len(bits)/8\n",
    "print(\"Tamaño del archivo tras la codificación fuente: %.2f\" % bytes, \"bytes\")"
   ]
  },
  {
   "cell_type": "markdown",
   "metadata": {},
   "source": [
    "### 5 - CODIFICACIÓN HUFFMANN (III)\n",
    "Por último, y para comprobar que todo funciona, decodifico el mensaje y compruebo que el resultado coincide con el mensaje original."
   ]
  },
  {
   "cell_type": "code",
   "execution_count": 5,
   "metadata": {},
   "outputs": [
    {
     "name": "stdout",
     "output_type": "stream",
     "text": [
      "En un lugar de la Mancha, de cuyo nombre no quiero acordarme\n"
     ]
    }
   ],
   "source": [
    "salida = CodFuente.huffman_dec(bits, diccionario)\n",
    "print(\"\".join(salida))"
   ]
  },
  {
   "cell_type": "markdown",
   "metadata": {},
   "source": [
    "### 6 - CODIFICACIÓN LZW (I)\n",
    "Hacemos lo mismo pero ahora con el codificador LZW"
   ]
  },
  {
   "cell_type": "code",
   "execution_count": 6,
   "metadata": {},
   "outputs": [
    {
     "name": "stdout",
     "output_type": "stream",
     "text": [
      "Diccionario LZW completo:\n",
      "'E' - 0\n",
      "'n' - 1\n",
      "' ' - 2\n",
      "'u' - 3\n",
      "'l' - 4\n",
      "'g' - 5\n",
      "'a' - 6\n",
      "'r' - 7\n",
      "'d' - 8\n",
      "'e' - 9\n",
      "'M' - 10\n",
      "'c' - 11\n",
      "'h' - 12\n",
      "',' - 13\n",
      "'y' - 14\n",
      "'o' - 15\n",
      "'m' - 16\n",
      "'b' - 17\n",
      "'q' - 18\n",
      "'i' - 19\n",
      "'En' - 20\n",
      "'n ' - 21\n",
      "' u' - 22\n",
      "'un' - 23\n",
      "'n l' - 24\n",
      "'lu' - 25\n",
      "'ug' - 26\n",
      "'ga' - 27\n",
      "'ar' - 28\n",
      "'r ' - 29\n",
      "' d' - 30\n",
      "'de' - 31\n",
      "'e ' - 32\n",
      "' l' - 33\n",
      "'la' - 34\n",
      "'a ' - 35\n",
      "' M' - 36\n",
      "'Ma' - 37\n",
      "'an' - 38\n",
      "'nc' - 39\n",
      "'ch' - 40\n",
      "'ha' - 41\n",
      "'a,' - 42\n",
      "', ' - 43\n",
      "' de' - 44\n",
      "'e c' - 45\n",
      "'cu' - 46\n",
      "'uy' - 47\n",
      "'yo' - 48\n",
      "'o ' - 49\n",
      "' n' - 50\n",
      "'no' - 51\n",
      "'om' - 52\n",
      "'mb' - 53\n",
      "'br' - 54\n",
      "'re' - 55\n",
      "'e n' - 56\n",
      "'no ' - 57\n",
      "' q' - 58\n",
      "'qu' - 59\n",
      "'ui' - 60\n",
      "'ie' - 61\n",
      "'er' - 62\n",
      "'ro' - 63\n",
      "'o a' - 64\n",
      "'ac' - 65\n",
      "'co' - 66\n",
      "'or' - 67\n",
      "'rd' - 68\n",
      "'da' - 69\n",
      "'arm' - 70\n",
      "'me' - 71\n"
     ]
    }
   ],
   "source": [
    "diccionario_lzw = CodFuente.gen_lzw_dic(mensaje)\n",
    "bits, bitspormuestralzw, codigo = CodFuente.lzw_cod(mensaje, diccionario_lzw)\n",
    "print(\"Diccionario LZW completo:\")\n",
    "for k in diccionario_lzw:\n",
    "    print(f\"'{k}' - {diccionario_lzw[k]}\")"
   ]
  },
  {
   "cell_type": "markdown",
   "metadata": {},
   "source": [
    "### 7 - CODIFICACIÓN LZW (II)\n",
    "Saco por pantalla el mensaje codificado, no en binario, sino los códigos correspondientes del diccionario. Calculo también el tamaño del mensaje una vez codificado. "
   ]
  },
  {
   "cell_type": "code",
   "execution_count": 7,
   "metadata": {},
   "outputs": [
    {
     "name": "stdout",
     "output_type": "stream",
     "text": [
      "[0, 1, 2, 3, 21, 4, 3, 5, 6, 7, 2, 8, 9, 2, 4, 6, 2, 10, 6, 1, 11, 12, 6, 13, 30, 32, 11, 3, 14, 15, 2, 1, 15, 16, 17, 7, 32, 51, 2, 18, 3, 19, 9, 7, 49, 6, 11, 15, 7, 8, 28, 16, 9]\n",
      "Tamaño del archivo tras la codificación LZW: 39.75 bytes\n"
     ]
    }
   ],
   "source": [
    "print(codigo)\n",
    "print(f\"Tamaño del archivo tras la codificación LZW: {len(bits)/8} bytes\")"
   ]
  },
  {
   "cell_type": "markdown",
   "metadata": {},
   "source": [
    "### 8 - CODIFICACIÓN LZW (III)\n",
    "Por último, igual que antes, decodifico y compruebo que todo funciona correctamente. "
   ]
  },
  {
   "cell_type": "code",
   "execution_count": 8,
   "metadata": {},
   "outputs": [
    {
     "name": "stdout",
     "output_type": "stream",
     "text": [
      "En un lugar de la Mancha, de cuyo nombre no quiero acordarme\n"
     ]
    }
   ],
   "source": [
    "salida = CodFuente.lzw_dec(bits, bitspormuestralzw, diccionario_lzw)\n",
    "print(f\"{salida}\")"
   ]
  }
 ],
 "metadata": {
  "interpreter": {
   "hash": "5e18f1f7e2093e2c4573a3c48282598290b4b08e415ac8eb5ac1b29c9e10dee7"
  },
  "kernelspec": {
   "display_name": "Python 3.8.10 64-bit ('base': conda)",
   "name": "python3"
  },
  "language_info": {
   "codemirror_mode": {
    "name": "ipython",
    "version": 3
   },
   "file_extension": ".py",
   "mimetype": "text/x-python",
   "name": "python",
   "nbconvert_exporter": "python",
   "pygments_lexer": "ipython3",
   "version": "3.8.11"
  },
  "orig_nbformat": 4
 },
 "nbformat": 4,
 "nbformat_minor": 2
}
