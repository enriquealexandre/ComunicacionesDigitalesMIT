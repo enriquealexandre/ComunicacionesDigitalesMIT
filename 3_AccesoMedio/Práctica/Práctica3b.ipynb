{
 "cells": [
  {
   "cell_type": "markdown",
   "metadata": {},
   "source": [
    "# COMUNICACIONES DIGITALES\n",
    "> Máster en Ingeniería de Telecomunicación<br>\n",
    "> Curso 2021/22"
   ]
  },
  {
   "cell_type": "markdown",
   "metadata": {},
   "source": [
    "## Práctica 3b - Acceso al medio (II)\n",
    "\n",
    "Vamos a analizar la probabilidad de error obtenida mediante una técnica de espectro ensanchado DS en función del número de señales interferentes en el sistema. "
   ]
  },
  {
   "cell_type": "markdown",
   "metadata": {},
   "source": [
    "### 0 - PARÁMETROS DE CONFIGURACIÓN"
   ]
  },
  {
   "cell_type": "code",
   "execution_count": 1,
   "metadata": {},
   "outputs": [],
   "source": [
    "import numpy as np                  #Librería matemática\n",
    "import matplotlib.pyplot as plt     #Librería gráfica\n",
    "Nbits = 10000                       #Número de bits que se van a transmitir\n",
    "chips = 127                         #Número de chips en los que se dividirá cada bit\n",
    "maxInterf = 100                     #Número máximo de señales interferentes\n",
    "factorInterf = 1                          #Relación de amplitud Interferencia/señal transmitida"
   ]
  },
  {
   "cell_type": "markdown",
   "metadata": {},
   "source": [
    "### 1 - GENERACIÓN DEL MENSAJE\n",
    "Generamos un mensaje que será la entrada a nuestro sistema"
   ]
  },
  {
   "cell_type": "code",
   "execution_count": 2,
   "metadata": {},
   "outputs": [],
   "source": [
    "bits_fuente = np.random.randint(2,size=Nbits)"
   ]
  },
  {
   "cell_type": "markdown",
   "metadata": {},
   "source": [
    "### 2 - EXPANSIÓN DE LA SEÑAL\n",
    "Expando la señal, de modo que cada bit se repite 'chips' veces. De paso hago una modulación sencilla, de forma que '0' -> -1 y '1' -> 1"
   ]
  },
  {
   "cell_type": "code",
   "execution_count": 3,
   "metadata": {},
   "outputs": [],
   "source": [
    "senal_fuente = 2*bits_fuente.repeat(chips)-1"
   ]
  },
  {
   "cell_type": "markdown",
   "metadata": {},
   "source": [
    "### 3 - GENERACIÓN DE LA SEÑAL DS\n",
    "Generamos el código del usuario, y multiplico la señal por él. El resultado es la señal que se va a transmitir por el canal"
   ]
  },
  {
   "cell_type": "code",
   "execution_count": 4,
   "metadata": {},
   "outputs": [],
   "source": [
    "codigo = 2*np.random.randint(2,size=Nbits*chips)-1\n",
    "senal_tx = senal_fuente*codigo"
   ]
  },
  {
   "cell_type": "markdown",
   "metadata": {},
   "source": [
    "### 4 - TRANSMISIÓN"
   ]
  },
  {
   "cell_type": "code",
   "execution_count": 5,
   "metadata": {},
   "outputs": [
    {
     "data": {
      "image/png": "[encoded data removed]",
      "text/plain": [
       "<Figure size 432x288 with 1 Axes>"
      ]
     },
     "metadata": {
      "needs_background": "light"
     },
     "output_type": "display_data"
    }
   ],
   "source": [
    "pe = np.zeros(maxInterf+1)\n",
    "interf = 2*np.random.randint(2,size=[maxInterf,len(bits_fuente)*chips])-1\n",
    "\n",
    "for i in range(0,maxInterf+1):\n",
    "    interferencia = np.sum(interf[0:i,:],0)\n",
    "    senal_rx = senal_tx+interferencia*factorInterf\n",
    "    bits_rx = senal_rx*codigo\n",
    "    matriz_decisor = np.reshape(bits_rx,(-1,chips)).sum(1)\n",
    "    decisor = np.array([0 if k<0 else 1 for k in matriz_decisor])   \n",
    "    errores = np.sum(np.abs(bits_fuente-decisor))\n",
    "    pe[i] = errores/len(bits_fuente)\n",
    "\n",
    "plt.plot(pe)\n",
    "plt.xlabel(\"Número de interferentes\")\n",
    "plt.ylabel(\"Probabilidad de error\")\n",
    "plt.show()\n"
   ]
  }
 ],
 "metadata": {
  "interpreter": {
   "hash": "5e18f1f7e2093e2c4573a3c48282598290b4b08e415ac8eb5ac1b29c9e10dee7"
  },
  "kernelspec": {
   "display_name": "Python 3.8.10 64-bit ('base': conda)",
   "name": "python3"
  },
  "language_info": {
   "codemirror_mode": {
    "name": "ipython",
    "version": 3
   },
   "file_extension": ".py",
   "mimetype": "text/x-python",
   "name": "python",
   "nbconvert_exporter": "python",
   "pygments_lexer": "ipython3",
   "version": "3.8.12"
  },
  "orig_nbformat": 4
 },
 "nbformat": 4,
 "nbformat_minor": 2
}
